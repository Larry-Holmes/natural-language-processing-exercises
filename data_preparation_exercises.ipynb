{
 "cells": [
  {
   "cell_type": "code",
   "execution_count": 21,
   "id": "49d3ab06-0a2c-4320-9fab-36db02d7c1df",
   "metadata": {},
   "outputs": [],
   "source": [
    "import pandas as pd\n",
    "import numpy as np\n",
    "\n",
    "import unicodedata\n",
    "import re\n",
    "import nltk\n",
    "from nltk.tokenize.toktok import ToktokTokenizer\n",
    "from nltk.corpus import stopwords\n",
    "\n",
    "import acquire\n",
    "import prepare"
   ]
  },
  {
   "cell_type": "code",
   "execution_count": 2,
   "id": "c20a7fb1-b361-4104-8135-02cbf62450ee",
   "metadata": {},
   "outputs": [],
   "source": [
    "url = 'https://codeup.com/blog/'"
   ]
  },
  {
   "cell_type": "code",
   "execution_count": 6,
   "id": "8de50e2e-329a-444f-91f3-d27c5ad92c9f",
   "metadata": {},
   "outputs": [],
   "source": [
    "all_blogs = acquire.get_blog_content(url)"
   ]
  },
  {
   "cell_type": "code",
   "execution_count": 11,
   "id": "bde262d4-f28a-4238-a404-5330f1af9a89",
   "metadata": {},
   "outputs": [
    {
     "data": {
      "text/plain": [
       "6"
      ]
     },
     "execution_count": 11,
     "metadata": {},
     "output_type": "execute_result"
    }
   ],
   "source": [
    "len(all_blogs)"
   ]
  },
  {
   "cell_type": "code",
   "execution_count": 12,
   "id": "c3e80726-473f-41c2-a001-26b745342100",
   "metadata": {},
   "outputs": [],
   "source": [
    "def basic_clean(original):\n",
    "    article = original.lower()\n",
    "    \n",
    "    article = unicodedata.normalize('NFKD', article).encode('ascii', 'ignore').decode('utf-8')\n",
    "    \n",
    "    article = re.sub(r'[^a-z0-9\\'\\s]', '', article)\n",
    "    \n",
    "    return article"
   ]
  },
  {
   "cell_type": "code",
   "execution_count": 14,
   "id": "84db49ae-0a6c-4b7f-8df6-610d47ff8bea",
   "metadata": {},
   "outputs": [],
   "source": [
    "def tokenize(article):\n",
    "    tokenize = ToktokTokenizer()\n",
    "    \n",
    "    article = tokenize.tokenize(article, return_str=True)\n",
    "    \n",
    "    return article"
   ]
  },
  {
   "cell_type": "code",
   "execution_count": 15,
   "id": "e488b926-4d95-43ac-8dd8-43fbd0bc72fd",
   "metadata": {},
   "outputs": [],
   "source": [
    "def stem(article):\n",
    "    \n",
    "    ps = nltk.porter.PorterStemmer()\n",
    "    \n",
    "    stems = [ps.stem(word) for word in article.split()]\n",
    "    \n",
    "    article_stemmed = ' '.join(stems)\n",
    "    \n",
    "    return article_stemmed"
   ]
  },
  {
   "cell_type": "code",
   "execution_count": 16,
   "id": "c856f476-40fd-4705-9b71-dfd4f5cb1b88",
   "metadata": {},
   "outputs": [],
   "source": [
    "def lemmatize(article):\n",
    "    \n",
    "    wnl = nltk.stem.WordNetLemmatizer()\n",
    "    \n",
    "    lemmas = [wnl.lemmatize(word) for word in article.split()]\n",
    "    \n",
    "    article_lemmatized = ' '.join(lemmas)\n",
    "    \n",
    "    return article_lemmatized"
   ]
  },
  {
   "cell_type": "code",
   "execution_count": 39,
   "id": "cb6c577d-2cdc-4b4d-adf7-36210fac033d",
   "metadata": {},
   "outputs": [],
   "source": [
    "def remove_stopwords(article, extra_words = 'no_extra', exclude_words = 'all_good'):\n",
    "        \n",
    "    stopwords_ls = stopwords.words('english')\n",
    "    \n",
    "    if extra_words != 'no_extra':\n",
    "        \n",
    "        stopwords_ls = stopwords_ls.append(extra_words)\n",
    "    else:\n",
    "        stopwords_ls = stopwords_ls\n",
    "            \n",
    "    if exclude_words != 'all_good':\n",
    "        \n",
    "        stopwords_ls = stopwords_ls.remove(exclude_words)\n",
    "    else:\n",
    "        stopwords_ls = stopwords_ls\n",
    "    \n",
    "    words = article.split()\n",
    "    \n",
    "    filtered_words = [word for word in words if word not in stopwords_ls]\n",
    "    \n",
    "    article_without_stopwords = ' '.join(filtered_words)\n",
    "    \n",
    "    return article_without_stopwords"
   ]
  },
  {
   "cell_type": "code",
   "execution_count": 30,
   "id": "f09a8da0-01dc-40de-8662-98013e954242",
   "metadata": {},
   "outputs": [],
   "source": [
    "og_content = all_blogs[0]['content']"
   ]
  },
  {
   "cell_type": "code",
   "execution_count": 25,
   "id": "eb2a8b75-8c64-417d-b142-61aae43fbda9",
   "metadata": {},
   "outputs": [
    {
     "data": {
      "text/html": [
       "<div>\n",
       "<style scoped>\n",
       "    .dataframe tbody tr th:only-of-type {\n",
       "        vertical-align: middle;\n",
       "    }\n",
       "\n",
       "    .dataframe tbody tr th {\n",
       "        vertical-align: top;\n",
       "    }\n",
       "\n",
       "    .dataframe thead th {\n",
       "        text-align: right;\n",
       "    }\n",
       "</style>\n",
       "<table border=\"1\" class=\"dataframe\">\n",
       "  <thead>\n",
       "    <tr style=\"text-align: right;\">\n",
       "      <th></th>\n",
       "      <th>title</th>\n",
       "      <th>content</th>\n",
       "    </tr>\n",
       "  </thead>\n",
       "  <tbody>\n",
       "    <tr>\n",
       "      <th>0</th>\n",
       "      <td>Diversity Equity and Inclusion Report</td>\n",
       "      <td>Codeup is excited to launch our first Diversit...</td>\n",
       "    </tr>\n",
       "    <tr>\n",
       "      <th>1</th>\n",
       "      <td>Codeup Honored as SABJ Diversity and Inclusion...</td>\n",
       "      <td>Codeup has been named the 2022 Diversity and I...</td>\n",
       "    </tr>\n",
       "    <tr>\n",
       "      <th>2</th>\n",
       "      <td>How Can I Finance My Career Transition?</td>\n",
       "      <td>Deciding to transition into a tech career is a...</td>\n",
       "    </tr>\n",
       "    <tr>\n",
       "      <th>3</th>\n",
       "      <td>Tips for Women Beginning a Career in Tech</td>\n",
       "      <td>Codeup strongly values diversity, and inclusio...</td>\n",
       "    </tr>\n",
       "    <tr>\n",
       "      <th>4</th>\n",
       "      <td>What is Cloud Computing and AWS?</td>\n",
       "      <td>With many companies switching to cloud service...</td>\n",
       "    </tr>\n",
       "    <tr>\n",
       "      <th>5</th>\n",
       "      <td>2022 SABJ C-Suite Award Winner: Stephen Noteboom</td>\n",
       "      <td>Codeup’s Chief Operating Officer, Stephen Note...</td>\n",
       "    </tr>\n",
       "  </tbody>\n",
       "</table>\n",
       "</div>"
      ],
      "text/plain": [
       "                                               title  \\\n",
       "0              Diversity Equity and Inclusion Report   \n",
       "1  Codeup Honored as SABJ Diversity and Inclusion...   \n",
       "2            How Can I Finance My Career Transition?   \n",
       "3          Tips for Women Beginning a Career in Tech   \n",
       "4                   What is Cloud Computing and AWS?   \n",
       "5   2022 SABJ C-Suite Award Winner: Stephen Noteboom   \n",
       "\n",
       "                                             content  \n",
       "0  Codeup is excited to launch our first Diversit...  \n",
       "1  Codeup has been named the 2022 Diversity and I...  \n",
       "2  Deciding to transition into a tech career is a...  \n",
       "3  Codeup strongly values diversity, and inclusio...  \n",
       "4  With many companies switching to cloud service...  \n",
       "5  Codeup’s Chief Operating Officer, Stephen Note...  "
      ]
     },
     "execution_count": 25,
     "metadata": {},
     "output_type": "execute_result"
    }
   ],
   "source": [
    "blog_df = pd.DataFrame(all_blogs)\n",
    "blog_df"
   ]
  },
  {
   "cell_type": "code",
   "execution_count": 32,
   "id": "c5e554ff-3b85-4b4c-9840-ae2db479a0ec",
   "metadata": {},
   "outputs": [],
   "source": [
    "article = basic_clean(og_content)"
   ]
  },
  {
   "cell_type": "code",
   "execution_count": 34,
   "id": "4a1547f9-d80f-4541-90f3-20a675642527",
   "metadata": {},
   "outputs": [],
   "source": [
    "article = tokenize(article)"
   ]
  },
  {
   "cell_type": "code",
   "execution_count": 36,
   "id": "bcb3bd3e-ab84-4fc7-9df7-f5fd932c796e",
   "metadata": {},
   "outputs": [],
   "source": [
    "article = lemmatize(article)"
   ]
  },
  {
   "cell_type": "code",
   "execution_count": 37,
   "id": "844b436a-5d78-42a6-9267-bb45e2d8e420",
   "metadata": {},
   "outputs": [
    {
     "data": {
      "text/plain": [
       "'codeup excited launch first diversity equity inclusion dei report eight year organization weve implemented policy grown dei effort extremely proud progress weve made staff codeup community recognize learn report capture way weve lived value cultivating inclusive growth continue look future wanted shine light demographic student staff particular compare tech industry whole collect organize share employee demographic data informed standard set equal employment opportunity commission eeoc proud celebrate weve grown motivated committed better view report visit link download'"
      ]
     },
     "execution_count": 37,
     "metadata": {},
     "output_type": "execute_result"
    }
   ],
   "source": [
    "remove_stopwords(article)"
   ]
  },
  {
   "cell_type": "code",
   "execution_count": 38,
   "id": "dc121fd6-330b-4fa7-a687-515c73c054ee",
   "metadata": {},
   "outputs": [
    {
     "data": {
      "text/plain": [
       "'Codeup is excited to launch our first Diversity Equity, and Inclusion (DEI) report! In over eight years as an organization, we’ve implemented policies and grown our DEI efforts. We are extremely proud of the progress we’ve made as a staff and Codeup community, and we recognize there is more to learn. This report captures some of the ways that we’ve lived our value of Cultivating Inclusive Growth, and how we will continue doing so as we look to the future.\\nWe wanted to shine a light on the demographics of our students and staff, and in particular how that compares to the tech industry as a whole. How we collect, organize, and share employee demographic data is informed by standards set by the Equal Employment Opportunity Commission (EEOC).\\nWe are proud to celebrate how we’ve grown and are motivated and committed to do more and be better. To view the report visit the link here, or download it below.'"
      ]
     },
     "execution_count": 38,
     "metadata": {},
     "output_type": "execute_result"
    }
   ],
   "source": [
    "og_content"
   ]
  },
  {
   "cell_type": "code",
   "execution_count": 42,
   "id": "40b1fb64-465e-4832-95d2-6a560e4efbf3",
   "metadata": {},
   "outputs": [],
   "source": [
    "blog_df = blog_df.rename(columns={'content':'original'})"
   ]
  },
  {
   "cell_type": "code",
   "execution_count": 44,
   "id": "0520ac9e-dfeb-4582-9bbb-ae073befb045",
   "metadata": {},
   "outputs": [
    {
     "data": {
      "text/html": [
       "<div>\n",
       "<style scoped>\n",
       "    .dataframe tbody tr th:only-of-type {\n",
       "        vertical-align: middle;\n",
       "    }\n",
       "\n",
       "    .dataframe tbody tr th {\n",
       "        vertical-align: top;\n",
       "    }\n",
       "\n",
       "    .dataframe thead th {\n",
       "        text-align: right;\n",
       "    }\n",
       "</style>\n",
       "<table border=\"1\" class=\"dataframe\">\n",
       "  <thead>\n",
       "    <tr style=\"text-align: right;\">\n",
       "      <th></th>\n",
       "      <th>title</th>\n",
       "      <th>original</th>\n",
       "      <th>clean</th>\n",
       "    </tr>\n",
       "  </thead>\n",
       "  <tbody>\n",
       "    <tr>\n",
       "      <th>0</th>\n",
       "      <td>Diversity Equity and Inclusion Report</td>\n",
       "      <td>Codeup is excited to launch our first Diversit...</td>\n",
       "      <td>codeup is excited to launch our first diversit...</td>\n",
       "    </tr>\n",
       "    <tr>\n",
       "      <th>1</th>\n",
       "      <td>Codeup Honored as SABJ Diversity and Inclusion...</td>\n",
       "      <td>Codeup has been named the 2022 Diversity and I...</td>\n",
       "      <td>codeup has been named the 2022 diversity and i...</td>\n",
       "    </tr>\n",
       "    <tr>\n",
       "      <th>2</th>\n",
       "      <td>How Can I Finance My Career Transition?</td>\n",
       "      <td>Deciding to transition into a tech career is a...</td>\n",
       "      <td>deciding to transition into a tech career is a...</td>\n",
       "    </tr>\n",
       "    <tr>\n",
       "      <th>3</th>\n",
       "      <td>Tips for Women Beginning a Career in Tech</td>\n",
       "      <td>Codeup strongly values diversity, and inclusio...</td>\n",
       "      <td>codeup strongly values diversity and inclusion...</td>\n",
       "    </tr>\n",
       "    <tr>\n",
       "      <th>4</th>\n",
       "      <td>What is Cloud Computing and AWS?</td>\n",
       "      <td>With many companies switching to cloud service...</td>\n",
       "      <td>with many companies switching to cloud service...</td>\n",
       "    </tr>\n",
       "  </tbody>\n",
       "</table>\n",
       "</div>"
      ],
      "text/plain": [
       "                                               title  \\\n",
       "0              Diversity Equity and Inclusion Report   \n",
       "1  Codeup Honored as SABJ Diversity and Inclusion...   \n",
       "2            How Can I Finance My Career Transition?   \n",
       "3          Tips for Women Beginning a Career in Tech   \n",
       "4                   What is Cloud Computing and AWS?   \n",
       "\n",
       "                                            original  \\\n",
       "0  Codeup is excited to launch our first Diversit...   \n",
       "1  Codeup has been named the 2022 Diversity and I...   \n",
       "2  Deciding to transition into a tech career is a...   \n",
       "3  Codeup strongly values diversity, and inclusio...   \n",
       "4  With many companies switching to cloud service...   \n",
       "\n",
       "                                               clean  \n",
       "0  codeup is excited to launch our first diversit...  \n",
       "1  codeup has been named the 2022 diversity and i...  \n",
       "2  deciding to transition into a tech career is a...  \n",
       "3  codeup strongly values diversity and inclusion...  \n",
       "4  with many companies switching to cloud service...  "
      ]
     },
     "execution_count": 44,
     "metadata": {},
     "output_type": "execute_result"
    }
   ],
   "source": [
    "blog_df['clean'] = blog_df.original.apply(basic_clean)\n",
    "blog_df.head()"
   ]
  },
  {
   "cell_type": "code",
   "execution_count": 45,
   "id": "166b18a1-955a-41b4-b34c-648a3ffb81e4",
   "metadata": {},
   "outputs": [
    {
     "data": {
      "text/html": [
       "<div>\n",
       "<style scoped>\n",
       "    .dataframe tbody tr th:only-of-type {\n",
       "        vertical-align: middle;\n",
       "    }\n",
       "\n",
       "    .dataframe tbody tr th {\n",
       "        vertical-align: top;\n",
       "    }\n",
       "\n",
       "    .dataframe thead th {\n",
       "        text-align: right;\n",
       "    }\n",
       "</style>\n",
       "<table border=\"1\" class=\"dataframe\">\n",
       "  <thead>\n",
       "    <tr style=\"text-align: right;\">\n",
       "      <th></th>\n",
       "      <th>title</th>\n",
       "      <th>original</th>\n",
       "      <th>clean</th>\n",
       "      <th>stemmed</th>\n",
       "    </tr>\n",
       "  </thead>\n",
       "  <tbody>\n",
       "    <tr>\n",
       "      <th>0</th>\n",
       "      <td>Diversity Equity and Inclusion Report</td>\n",
       "      <td>Codeup is excited to launch our first Diversit...</td>\n",
       "      <td>codeup is excited to launch our first diversit...</td>\n",
       "      <td>codeup is excit to launch our first divers equ...</td>\n",
       "    </tr>\n",
       "    <tr>\n",
       "      <th>1</th>\n",
       "      <td>Codeup Honored as SABJ Diversity and Inclusion...</td>\n",
       "      <td>Codeup has been named the 2022 Diversity and I...</td>\n",
       "      <td>codeup has been named the 2022 diversity and i...</td>\n",
       "      <td>codeup ha been name the 2022 divers and inclus...</td>\n",
       "    </tr>\n",
       "    <tr>\n",
       "      <th>2</th>\n",
       "      <td>How Can I Finance My Career Transition?</td>\n",
       "      <td>Deciding to transition into a tech career is a...</td>\n",
       "      <td>deciding to transition into a tech career is a...</td>\n",
       "      <td>decid to transit into a tech career is a big s...</td>\n",
       "    </tr>\n",
       "    <tr>\n",
       "      <th>3</th>\n",
       "      <td>Tips for Women Beginning a Career in Tech</td>\n",
       "      <td>Codeup strongly values diversity, and inclusio...</td>\n",
       "      <td>codeup strongly values diversity and inclusion...</td>\n",
       "      <td>codeup strongli valu divers and inclus in hono...</td>\n",
       "    </tr>\n",
       "    <tr>\n",
       "      <th>4</th>\n",
       "      <td>What is Cloud Computing and AWS?</td>\n",
       "      <td>With many companies switching to cloud service...</td>\n",
       "      <td>with many companies switching to cloud service...</td>\n",
       "      <td>with mani compani switch to cloud servic and i...</td>\n",
       "    </tr>\n",
       "  </tbody>\n",
       "</table>\n",
       "</div>"
      ],
      "text/plain": [
       "                                               title  \\\n",
       "0              Diversity Equity and Inclusion Report   \n",
       "1  Codeup Honored as SABJ Diversity and Inclusion...   \n",
       "2            How Can I Finance My Career Transition?   \n",
       "3          Tips for Women Beginning a Career in Tech   \n",
       "4                   What is Cloud Computing and AWS?   \n",
       "\n",
       "                                            original  \\\n",
       "0  Codeup is excited to launch our first Diversit...   \n",
       "1  Codeup has been named the 2022 Diversity and I...   \n",
       "2  Deciding to transition into a tech career is a...   \n",
       "3  Codeup strongly values diversity, and inclusio...   \n",
       "4  With many companies switching to cloud service...   \n",
       "\n",
       "                                               clean  \\\n",
       "0  codeup is excited to launch our first diversit...   \n",
       "1  codeup has been named the 2022 diversity and i...   \n",
       "2  deciding to transition into a tech career is a...   \n",
       "3  codeup strongly values diversity and inclusion...   \n",
       "4  with many companies switching to cloud service...   \n",
       "\n",
       "                                             stemmed  \n",
       "0  codeup is excit to launch our first divers equ...  \n",
       "1  codeup ha been name the 2022 divers and inclus...  \n",
       "2  decid to transit into a tech career is a big s...  \n",
       "3  codeup strongli valu divers and inclus in hono...  \n",
       "4  with mani compani switch to cloud servic and i...  "
      ]
     },
     "execution_count": 45,
     "metadata": {},
     "output_type": "execute_result"
    }
   ],
   "source": [
    "blog_df['stemmed'] = blog_df.clean.apply(stem)\n",
    "blog_df.head()"
   ]
  },
  {
   "cell_type": "code",
   "execution_count": 46,
   "id": "d6f9aeba-bb70-4250-bb7e-cc3a65df56dc",
   "metadata": {},
   "outputs": [
    {
     "data": {
      "text/html": [
       "<div>\n",
       "<style scoped>\n",
       "    .dataframe tbody tr th:only-of-type {\n",
       "        vertical-align: middle;\n",
       "    }\n",
       "\n",
       "    .dataframe tbody tr th {\n",
       "        vertical-align: top;\n",
       "    }\n",
       "\n",
       "    .dataframe thead th {\n",
       "        text-align: right;\n",
       "    }\n",
       "</style>\n",
       "<table border=\"1\" class=\"dataframe\">\n",
       "  <thead>\n",
       "    <tr style=\"text-align: right;\">\n",
       "      <th></th>\n",
       "      <th>title</th>\n",
       "      <th>original</th>\n",
       "      <th>clean</th>\n",
       "      <th>stemmed</th>\n",
       "      <th>lemmatized</th>\n",
       "    </tr>\n",
       "  </thead>\n",
       "  <tbody>\n",
       "    <tr>\n",
       "      <th>0</th>\n",
       "      <td>Diversity Equity and Inclusion Report</td>\n",
       "      <td>Codeup is excited to launch our first Diversit...</td>\n",
       "      <td>codeup is excited to launch our first diversit...</td>\n",
       "      <td>codeup is excit to launch our first divers equ...</td>\n",
       "      <td>codeup is excit to launch our first diver equi...</td>\n",
       "    </tr>\n",
       "    <tr>\n",
       "      <th>1</th>\n",
       "      <td>Codeup Honored as SABJ Diversity and Inclusion...</td>\n",
       "      <td>Codeup has been named the 2022 Diversity and I...</td>\n",
       "      <td>codeup has been named the 2022 diversity and i...</td>\n",
       "      <td>codeup ha been name the 2022 divers and inclus...</td>\n",
       "      <td>codeup ha been name the 2022 diver and inclus ...</td>\n",
       "    </tr>\n",
       "    <tr>\n",
       "      <th>2</th>\n",
       "      <td>How Can I Finance My Career Transition?</td>\n",
       "      <td>Deciding to transition into a tech career is a...</td>\n",
       "      <td>deciding to transition into a tech career is a...</td>\n",
       "      <td>decid to transit into a tech career is a big s...</td>\n",
       "      <td>decid to transit into a tech career is a big s...</td>\n",
       "    </tr>\n",
       "    <tr>\n",
       "      <th>3</th>\n",
       "      <td>Tips for Women Beginning a Career in Tech</td>\n",
       "      <td>Codeup strongly values diversity, and inclusio...</td>\n",
       "      <td>codeup strongly values diversity and inclusion...</td>\n",
       "      <td>codeup strongli valu divers and inclus in hono...</td>\n",
       "      <td>codeup strongli valu diver and inclus in honor...</td>\n",
       "    </tr>\n",
       "    <tr>\n",
       "      <th>4</th>\n",
       "      <td>What is Cloud Computing and AWS?</td>\n",
       "      <td>With many companies switching to cloud service...</td>\n",
       "      <td>with many companies switching to cloud service...</td>\n",
       "      <td>with mani compani switch to cloud servic and i...</td>\n",
       "      <td>with mani compani switch to cloud servic and i...</td>\n",
       "    </tr>\n",
       "  </tbody>\n",
       "</table>\n",
       "</div>"
      ],
      "text/plain": [
       "                                               title  \\\n",
       "0              Diversity Equity and Inclusion Report   \n",
       "1  Codeup Honored as SABJ Diversity and Inclusion...   \n",
       "2            How Can I Finance My Career Transition?   \n",
       "3          Tips for Women Beginning a Career in Tech   \n",
       "4                   What is Cloud Computing and AWS?   \n",
       "\n",
       "                                            original  \\\n",
       "0  Codeup is excited to launch our first Diversit...   \n",
       "1  Codeup has been named the 2022 Diversity and I...   \n",
       "2  Deciding to transition into a tech career is a...   \n",
       "3  Codeup strongly values diversity, and inclusio...   \n",
       "4  With many companies switching to cloud service...   \n",
       "\n",
       "                                               clean  \\\n",
       "0  codeup is excited to launch our first diversit...   \n",
       "1  codeup has been named the 2022 diversity and i...   \n",
       "2  deciding to transition into a tech career is a...   \n",
       "3  codeup strongly values diversity and inclusion...   \n",
       "4  with many companies switching to cloud service...   \n",
       "\n",
       "                                             stemmed  \\\n",
       "0  codeup is excit to launch our first divers equ...   \n",
       "1  codeup ha been name the 2022 divers and inclus...   \n",
       "2  decid to transit into a tech career is a big s...   \n",
       "3  codeup strongli valu divers and inclus in hono...   \n",
       "4  with mani compani switch to cloud servic and i...   \n",
       "\n",
       "                                          lemmatized  \n",
       "0  codeup is excit to launch our first diver equi...  \n",
       "1  codeup ha been name the 2022 diver and inclus ...  \n",
       "2  decid to transit into a tech career is a big s...  \n",
       "3  codeup strongli valu diver and inclus in honor...  \n",
       "4  with mani compani switch to cloud servic and i...  "
      ]
     },
     "execution_count": 46,
     "metadata": {},
     "output_type": "execute_result"
    }
   ],
   "source": [
    "blog_df['lemmatized'] = blog_df.stemmed.apply(lemmatize)\n",
    "blog_df.head()"
   ]
  },
  {
   "cell_type": "code",
   "execution_count": null,
   "id": "3af45019-8f6d-4f2e-bbba-749a8df93e78",
   "metadata": {},
   "outputs": [],
   "source": []
  }
 ],
 "metadata": {
  "kernelspec": {
   "display_name": "Python 3 (ipykernel)",
   "language": "python",
   "name": "python3"
  },
  "language_info": {
   "codemirror_mode": {
    "name": "ipython",
    "version": 3
   },
   "file_extension": ".py",
   "mimetype": "text/x-python",
   "name": "python",
   "nbconvert_exporter": "python",
   "pygments_lexer": "ipython3",
   "version": "3.9.12"
  }
 },
 "nbformat": 4,
 "nbformat_minor": 5
}
