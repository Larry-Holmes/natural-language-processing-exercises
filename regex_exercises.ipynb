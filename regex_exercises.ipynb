{
 "cells": [
  {
   "cell_type": "code",
   "execution_count": 1,
   "id": "cd98d804-9fa6-4d1d-9331-916f33d2d567",
   "metadata": {},
   "outputs": [],
   "source": [
    "import pandas as pd\n",
    "import re"
   ]
  },
  {
   "cell_type": "markdown",
   "id": "148040fd-4acd-421b-91bb-e6d6a442e594",
   "metadata": {},
   "source": [
    "Write a function named is_vowel. It should accept a string as input and use a regular expression to determine if the passed string is a vowel. While not explicity mentioned in the lesson, you can treat the result of re.search as a boolean value that indicates whether or not the regular expression matches the given string."
   ]
  },
  {
   "cell_type": "code",
   "execution_count": 18,
   "id": "04263236-ffcb-43d8-94d3-438d572537b7",
   "metadata": {},
   "outputs": [],
   "source": [
    "def is_vowel(str):\n",
    "    regex = r'[aeiou]'\n",
    "    \n",
    "    if re.search(regex, str, re.IGNORECASE):\n",
    "        return True\n",
    "    else:\n",
    "        return False"
   ]
  },
  {
   "cell_type": "code",
   "execution_count": 19,
   "id": "93975651-6de2-4d28-b16c-546de6d10b21",
   "metadata": {},
   "outputs": [
    {
     "data": {
      "text/plain": [
       "True"
      ]
     },
     "execution_count": 19,
     "metadata": {},
     "output_type": "execute_result"
    }
   ],
   "source": [
    "is_vowel('a')"
   ]
  },
  {
   "cell_type": "code",
   "execution_count": 17,
   "id": "89857133-76f4-48eb-a0bb-8295fc840ec5",
   "metadata": {},
   "outputs": [
    {
     "data": {
      "text/plain": [
       "True"
      ]
     },
     "execution_count": 17,
     "metadata": {},
     "output_type": "execute_result"
    }
   ],
   "source": [
    "regex = r'[aeiou]'\n",
    "\n",
    "bool(re.search(regex, 'a', re.IGNORECASE))"
   ]
  },
  {
   "cell_type": "markdown",
   "id": "ebd71b88-1adf-448d-8f62-f68dbe6efb50",
   "metadata": {},
   "source": [
    "Write a function named is_valid_username that accepts a string as input. A valid username starts with a lowercase letter, and only consists of lowercase letters, numbers, or the _ character. It should also be no longer than 32 characters. The function should return either True or False depending on whether the passed string is a valid username"
   ]
  },
  {
   "cell_type": "code",
   "execution_count": 39,
   "id": "39ad6275-0929-4319-9e57-4e3594e4052a",
   "metadata": {},
   "outputs": [],
   "source": [
    "def is_valid_username(str):\n",
    "    \n",
    "    regex = r'^[a-z][\\w*\\d*\\(_*)]{1,31}\\b'\n",
    "    \n",
    "    if re.search(regex, str, re.VERBOSE):\n",
    "        return True\n",
    "    else:\n",
    "        return False"
   ]
  },
  {
   "cell_type": "code",
   "execution_count": 40,
   "id": "f1d249d7-9293-410c-b737-526263355299",
   "metadata": {},
   "outputs": [
    {
     "data": {
      "text/plain": [
       "False"
      ]
     },
     "execution_count": 40,
     "metadata": {},
     "output_type": "execute_result"
    }
   ],
   "source": [
    "is_valid_username('aaaaaaaaaaaaaaaaaaaaaaaaaaaaaaaaa')"
   ]
  },
  {
   "cell_type": "code",
   "execution_count": 41,
   "id": "2ea1bb21-1279-494b-96ed-1aeb59b99ca5",
   "metadata": {},
   "outputs": [
    {
     "data": {
      "text/plain": [
       "True"
      ]
     },
     "execution_count": 41,
     "metadata": {},
     "output_type": "execute_result"
    }
   ],
   "source": [
    "is_valid_username('codeup')"
   ]
  },
  {
   "cell_type": "code",
   "execution_count": 42,
   "id": "465ba03d-3572-48fb-8d9c-6028fcf5c97b",
   "metadata": {},
   "outputs": [
    {
     "data": {
      "text/plain": [
       "False"
      ]
     },
     "execution_count": 42,
     "metadata": {},
     "output_type": "execute_result"
    }
   ],
   "source": [
    "is_valid_username('Codeup')"
   ]
  },
  {
   "cell_type": "code",
   "execution_count": 43,
   "id": "2fede5d3-be9e-4607-b90d-55310b6b4ae3",
   "metadata": {},
   "outputs": [
    {
     "data": {
      "text/plain": [
       "True"
      ]
     },
     "execution_count": 43,
     "metadata": {},
     "output_type": "execute_result"
    }
   ],
   "source": [
    "is_valid_username('codeup123')"
   ]
  },
  {
   "cell_type": "code",
   "execution_count": 44,
   "id": "07083dd7-7c84-4d59-9706-0b7127545af8",
   "metadata": {},
   "outputs": [
    {
     "data": {
      "text/plain": [
       "False"
      ]
     },
     "execution_count": 44,
     "metadata": {},
     "output_type": "execute_result"
    }
   ],
   "source": [
    "is_valid_username('1codeup')"
   ]
  },
  {
   "cell_type": "markdown",
   "id": "0f1d7d36-7817-422d-ac67-8c78f158c937",
   "metadata": {},
   "source": [
    "Write a regular expression to capture phone numbers. It should match all of the following:\n",
    "\n",
    "(210) 867 5309\n",
    "\n",
    "+1 210.867.5309\n",
    "\n",
    "867-5309\n",
    "\n",
    "210-867-5309"
   ]
  },
  {
   "cell_type": "code",
   "execution_count": 181,
   "id": "0493f082-52ed-4ae9-8498-a8c103405e6c",
   "metadata": {},
   "outputs": [],
   "source": [
    "def is_phone_number(str):\n",
    "    regex =  r'\\D?\\d+\\D?\\d+\\D?\\d+\\D?\\d+'\n",
    "\n",
    "    if re.findall(regex, str, re.VERBOSE):\n",
    "        return re.findall(regex, str, re.VERBOSE)\n",
    "    else:\n",
    "        return False"
   ]
  },
  {
   "cell_type": "code",
   "execution_count": 182,
   "id": "da94d1d0-7274-4b47-bca8-e7319f815ce9",
   "metadata": {},
   "outputs": [
    {
     "data": {
      "text/plain": [
       "[' 867 5309']"
      ]
     },
     "execution_count": 182,
     "metadata": {},
     "output_type": "execute_result"
    }
   ],
   "source": [
    "is_phone_number('(210) 867 5309')"
   ]
  },
  {
   "cell_type": "code",
   "execution_count": 183,
   "id": "85be90f1-d8a5-4368-a9a3-98bb58f9faf5",
   "metadata": {},
   "outputs": [
    {
     "data": {
      "text/plain": [
       "['+1 210.867.5309']"
      ]
     },
     "execution_count": 183,
     "metadata": {},
     "output_type": "execute_result"
    }
   ],
   "source": [
    "is_phone_number('+1 210.867.5309')"
   ]
  },
  {
   "cell_type": "code",
   "execution_count": 184,
   "id": "a666b478-e906-412f-95c5-dace9f2ccaee",
   "metadata": {},
   "outputs": [
    {
     "data": {
      "text/plain": [
       "['867-5309']"
      ]
     },
     "execution_count": 184,
     "metadata": {},
     "output_type": "execute_result"
    }
   ],
   "source": [
    "is_phone_number('867-5309')"
   ]
  },
  {
   "cell_type": "code",
   "execution_count": 185,
   "id": "234d0f31-47f2-4096-b0a4-cf859d64877a",
   "metadata": {},
   "outputs": [
    {
     "data": {
      "text/plain": [
       "['210-867-5309']"
      ]
     },
     "execution_count": 185,
     "metadata": {},
     "output_type": "execute_result"
    }
   ],
   "source": [
    "is_phone_number('210-867-5309')"
   ]
  },
  {
   "cell_type": "code",
   "execution_count": 186,
   "id": "eedfe04f-e588-413c-892e-4a22e527b963",
   "metadata": {},
   "outputs": [
    {
     "data": {
      "text/plain": [
       "['+1 210.867.5309']"
      ]
     },
     "execution_count": 186,
     "metadata": {},
     "output_type": "execute_result"
    }
   ],
   "source": [
    "regex = r'\\D?\\d+\\D?\\d+\\D?\\d+\\D?\\d+'\n",
    "    \n",
    "re.findall(regex, '+1 210.867.5309', re.VERBOSE)   "
   ]
  },
  {
   "cell_type": "markdown",
   "id": "da453c71-d485-4ff6-ac03-e15d8bf44e48",
   "metadata": {},
   "source": [
    "Use regular expressions to convert the dates below to the standardized year-month-day format."
   ]
  },
  {
   "cell_type": "code",
   "execution_count": 195,
   "id": "2d3a50d8-68da-43ce-9c77-e8ca59856e05",
   "metadata": {},
   "outputs": [],
   "source": [
    "dates = ['02/04/19', '02/05/19', '02/06/19', '02/07/19', '02/08/19', '02/09/19', '02/10/19',]"
   ]
  },
  {
   "cell_type": "code",
   "execution_count": 212,
   "id": "b288c850-b279-41e3-a422-e9300500426b",
   "metadata": {},
   "outputs": [],
   "source": [
    "def convert_date(dates):\n",
    "    regex =  re.compile(r'''\n",
    "                        (?P<month>\\d{2})[/]\n",
    "                        (?P<day>\\d{2})[/]\n",
    "                        (?P<year>\\d{2})''', re.VERBOSE)\n",
    "    \n",
    "    match = [re.search(regex, str).groupdict() for str in dates]\n",
    "    \n",
    "    return match"
   ]
  },
  {
   "cell_type": "code",
   "execution_count": 211,
   "id": "22900822-0ce5-4999-a1ef-2b01dd9505b7",
   "metadata": {},
   "outputs": [
    {
     "data": {
      "text/plain": [
       "<re.Match object; span=(0, 8), match='02/04/19'>"
      ]
     },
     "execution_count": 211,
     "metadata": {},
     "output_type": "execute_result"
    }
   ],
   "source": [
    "regex = r'(?P<month>\\d{2})[/](?P<day>\\d{2})[/](?P<year>\\d{2})'\n",
    "\n",
    "match = re.search(regex, '02/04/19')\n",
    "match"
   ]
  },
  {
   "cell_type": "code",
   "execution_count": 213,
   "id": "ea5f0b55-5058-41e8-878b-e029bbcb2dfa",
   "metadata": {},
   "outputs": [
    {
     "data": {
      "text/plain": [
       "[{'month': '02', 'day': '04', 'year': '19'},\n",
       " {'month': '02', 'day': '05', 'year': '19'},\n",
       " {'month': '02', 'day': '06', 'year': '19'},\n",
       " {'month': '02', 'day': '07', 'year': '19'},\n",
       " {'month': '02', 'day': '08', 'year': '19'},\n",
       " {'month': '02', 'day': '09', 'year': '19'},\n",
       " {'month': '02', 'day': '10', 'year': '19'}]"
      ]
     },
     "execution_count": 213,
     "metadata": {},
     "output_type": "execute_result"
    }
   ],
   "source": [
    "convert_date(dates)"
   ]
  },
  {
   "cell_type": "code",
   "execution_count": null,
   "id": "81e15aa9-203a-49e4-9b5e-a308d90b0dfb",
   "metadata": {},
   "outputs": [],
   "source": []
  }
 ],
 "metadata": {
  "kernelspec": {
   "display_name": "Python 3 (ipykernel)",
   "language": "python",
   "name": "python3"
  },
  "language_info": {
   "codemirror_mode": {
    "name": "ipython",
    "version": 3
   },
   "file_extension": ".py",
   "mimetype": "text/x-python",
   "name": "python",
   "nbconvert_exporter": "python",
   "pygments_lexer": "ipython3",
   "version": "3.9.12"
  }
 },
 "nbformat": 4,
 "nbformat_minor": 5
}
